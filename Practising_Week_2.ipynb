{
  "nbformat": 4,
  "nbformat_minor": 0,
  "metadata": {
    "colab": {
      "provenance": [],
      "authorship_tag": "ABX9TyOg9L6GiOI0jvXE7Fp3B6En",
      "include_colab_link": true
    },
    "kernelspec": {
      "name": "python3",
      "display_name": "Python 3"
    },
    "language_info": {
      "name": "python"
    }
  },
  "cells": [
    {
      "cell_type": "markdown",
      "metadata": {
        "id": "view-in-github",
        "colab_type": "text"
      },
      "source": [
        "<a href=\"https://colab.research.google.com/github/isaacwoood/ADS2002-iwoo0004/blob/main/Practising_Week_2.ipynb\" target=\"_parent\"><img src=\"https://colab.research.google.com/assets/colab-badge.svg\" alt=\"Open In Colab\"/></a>"
      ]
    },
    {
      "cell_type": "code",
      "execution_count": 23,
      "metadata": {
        "id": "GlkrkQwDGWB2"
      },
      "outputs": [],
      "source": [
        "import pandas as pd\n",
        "import numpy as np"
      ]
    },
    {
      "cell_type": "code",
      "source": [
        "cars = pd.read_csv(\"/content/mtcars.csv\")\n",
        "cars.head()"
      ],
      "metadata": {
        "id": "BbrYTznRGbUR"
      },
      "execution_count": null,
      "outputs": []
    },
    {
      "cell_type": "code",
      "source": [
        "from sklearn.linear_model import LinearRegression\n",
        "from sklearn.model_selection import train_test_split\n",
        "from sklearn.metrics import r2_score"
      ],
      "metadata": {
        "id": "a4X4stTKHUpF"
      },
      "execution_count": 25,
      "outputs": []
    },
    {
      "cell_type": "code",
      "source": [
        "X = cars[['wt', 'hp']]\n",
        "Y = cars['mpg']\n",
        "\n",
        "linear = LinearRegression(fit_intercept=True)\n",
        "linear.fit(X, Y)\n",
        "training_score = linear.score(X, Y)\n",
        "\n",
        "print(\"R2 Score:\", np.round(training_score, 3))\n",
        "print(\"Coefficients:\", np.round(linear.coef_, 3))\n",
        "print(\"Intercept\", np.round(linear.intercept_, 3))"
      ],
      "metadata": {
        "colab": {
          "base_uri": "https://localhost:8080/"
        },
        "id": "vLVOWqFBIaPr",
        "outputId": "bc1e5a50-bc2e-4566-a296-a9a4a241e7b9"
      },
      "execution_count": 26,
      "outputs": [
        {
          "output_type": "stream",
          "name": "stdout",
          "text": [
            "R2 Score: 0.827\n",
            "Coefficients: [-3.878 -0.032]\n",
            "Intercept 37.227\n"
          ]
        }
      ]
    },
    {
      "cell_type": "code",
      "source": [],
      "metadata": {
        "id": "nhlibxdpJS_W"
      },
      "execution_count": null,
      "outputs": []
    }
  ]
}